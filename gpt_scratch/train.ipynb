{
 "cells": [
  {
   "cell_type": "markdown",
   "id": "edfd8ffc",
   "metadata": {},
   "source": [
    "# gpt = generative pretrained transformer"
   ]
  },
  {
   "cell_type": "code",
   "execution_count": null,
   "id": "854403f8",
   "metadata": {
    "vscode": {
     "languageId": "plaintext"
    }
   },
   "outputs": [],
   "source": [
    "!wget https://raw.githubusercontent.com/karpathy/char-rnn/master/data/tinyshakespeare/input.txt"
   ]
  },
  {
   "cell_type": "code",
   "execution_count": null,
   "id": "2ee79c42",
   "metadata": {
    "vscode": {
     "languageId": "plaintext"
    }
   },
   "outputs": [],
   "source": [
    "with open('input.txt', 'r', encoding='utf-8') as f:\n",
    "    text=f.read()"
   ]
  },
  {
   "cell_type": "code",
   "execution_count": null,
   "id": "f01159e6",
   "metadata": {
    "vscode": {
     "languageId": "plaintext"
    }
   },
   "outputs": [],
   "source": [
    "# get list of all unique characters in the text, in sorted order\n",
    "chars=sorted(list(set(text)))\n",
    "vocab_size=len(chars)"
   ]
  },
  {
   "cell_type": "markdown",
   "id": "9396522b-0b00-4137-bbf0-5e644f52d019",
   "metadata": {},
   "source": [
    "PERFORMING TOKENIZATION\n",
    "\n",
    "here, we just map each character of our string to our chars set we created above"
   ]
  },
  {
   "cell_type": "code",
   "execution_count": null,
   "id": "9073010c-fd44-4214-a21e-1a1e05a98bd3",
   "metadata": {},
   "outputs": [],
   "source": [
    "# creating mapping from chars to index and index to chars\n",
    "stoi={ch:i for i, ch in enumerate(chars)} # character to index\n",
    "itos={i:ch for ch, i in enumerate(chars)} # index to character\n",
    "encode=lambda s:[stoi[c] for c in s]\n",
    "decode=lambda l:''.join([itos[i] for i in l])"
   ]
  },
  {
   "cell_type": "code",
   "execution_count": null,
   "id": "8d612b1f-0b1f-40b7-93f1-aceb3b9aaf1e",
   "metadata": {},
   "outputs": [],
   "source": [
    "# now encode the entire dataset text in torch.tensor\n",
    "# A torch.Tensor is a multi-dimensional matrix containing elements of a single data type\n",
    "import torch\n",
    "data=torch.tensor(encode(text), dtype=tensor.long) # creates the 64-bit signed (dtype=tensor.long) integer matrix"
   ]
  },
  {
   "cell_type": "code",
   "execution_count": null,
   "id": "04e8af3f-4121-4352-86ef-caec3662ac12",
   "metadata": {},
   "outputs": [],
   "source": [
    "# train test split\n",
    "n=int(0.9*len(data))\n",
    "train_data=data[:n] # from 0 to n in data matrix\n",
    "test_data=data[n:] # from n to end in data matrix"
   ]
  }
 ],
 "metadata": {
  "kernelspec": {
   "display_name": "Python 3 (ipykernel)",
   "language": "python",
   "name": "python3"
  },
  "language_info": {
   "codemirror_mode": {
    "name": "ipython",
    "version": 3
   },
   "file_extension": ".py",
   "mimetype": "text/x-python",
   "name": "python",
   "nbconvert_exporter": "python",
   "pygments_lexer": "ipython3",
   "version": "3.11.0"
  }
 },
 "nbformat": 4,
 "nbformat_minor": 5
}
