{
 "cells": [
  {
   "cell_type": "markdown",
   "id": "9d29c9f8-4f6a-4b74-980a-318cf038ae45",
   "metadata": {},
   "source": [
    "gpt = generative pretrained transformer"
   ]
  },
  {
   "cell_type": "code",
   "execution_count": 25,
   "id": "99be2de4-6adb-4a8c-a063-51e5aee64b9c",
   "metadata": {},
   "outputs": [
    {
     "name": "stdout",
     "output_type": "stream",
     "text": [
      "Requirement already satisfied: wget in c:\\users\\athar\\appdata\\local\\programs\\python\\python311\\lib\\site-packages (3.2)\n",
      "Note: you may need to restart the kernel to use updated packages.\n"
     ]
    },
    {
     "name": "stderr",
     "output_type": "stream",
     "text": [
      "DEPRECATION: Loading egg at c:\\users\\athar\\appdata\\local\\programs\\python\\python311\\lib\\site-packages\\argparse-1.4.0-py3.11.egg is deprecated. pip 23.3 will enforce this behaviour change. A possible replacement is to use pip for package installation..\n",
      "DEPRECATION: Loading egg at c:\\users\\athar\\appdata\\local\\programs\\python\\python311\\lib\\site-packages\\phonenumbers-9.0.8-py3.11.egg is deprecated. pip 23.3 will enforce this behaviour change. A possible replacement is to use pip for package installation..\n",
      "DEPRECATION: Loading egg at c:\\users\\athar\\appdata\\local\\programs\\python\\python311\\lib\\site-packages\\pycountry-24.6.1-py3.11.egg is deprecated. pip 23.3 will enforce this behaviour change. A possible replacement is to use pip for package installation..\n",
      "\n",
      "[notice] A new release of pip is available: 23.2.1 -> 25.2\n",
      "[notice] To update, run: python.exe -m pip install --upgrade pip\n"
     ]
    },
    {
     "name": "stdout",
     "output_type": "stream",
     "text": [
      "Requirement already satisfied: torch in c:\\users\\athar\\appdata\\local\\programs\\python\\python311\\lib\\site-packages (2.8.0)\n",
      "Requirement already satisfied: filelock in c:\\users\\athar\\appdata\\local\\programs\\python\\python311\\lib\\site-packages (from torch) (3.18.0)\n",
      "Requirement already satisfied: typing-extensions>=4.10.0 in c:\\users\\athar\\appdata\\local\\programs\\python\\python311\\lib\\site-packages (from torch) (4.12.2)\n",
      "Requirement already satisfied: sympy>=1.13.3 in c:\\users\\athar\\appdata\\local\\programs\\python\\python311\\lib\\site-packages (from torch) (1.14.0)\n",
      "Requirement already satisfied: networkx in c:\\users\\athar\\appdata\\local\\programs\\python\\python311\\lib\\site-packages (from torch) (3.5)\n",
      "Requirement already satisfied: jinja2 in c:\\users\\athar\\appdata\\local\\programs\\python\\python311\\lib\\site-packages (from torch) (3.1.6)\n",
      "Requirement already satisfied: fsspec in c:\\users\\athar\\appdata\\local\\programs\\python\\python311\\lib\\site-packages (from torch) (2025.7.0)\n",
      "Requirement already satisfied: mpmath<1.4,>=1.1.0 in c:\\users\\athar\\appdata\\local\\programs\\python\\python311\\lib\\site-packages (from sympy>=1.13.3->torch) (1.3.0)\n",
      "Requirement already satisfied: MarkupSafe>=2.0 in c:\\users\\athar\\appdata\\local\\programs\\python\\python311\\lib\\site-packages (from jinja2->torch) (3.0.2)\n",
      "Note: you may need to restart the kernel to use updated packages.\n"
     ]
    },
    {
     "name": "stderr",
     "output_type": "stream",
     "text": [
      "DEPRECATION: Loading egg at c:\\users\\athar\\appdata\\local\\programs\\python\\python311\\lib\\site-packages\\argparse-1.4.0-py3.11.egg is deprecated. pip 23.3 will enforce this behaviour change. A possible replacement is to use pip for package installation..\n",
      "DEPRECATION: Loading egg at c:\\users\\athar\\appdata\\local\\programs\\python\\python311\\lib\\site-packages\\phonenumbers-9.0.8-py3.11.egg is deprecated. pip 23.3 will enforce this behaviour change. A possible replacement is to use pip for package installation..\n",
      "DEPRECATION: Loading egg at c:\\users\\athar\\appdata\\local\\programs\\python\\python311\\lib\\site-packages\\pycountry-24.6.1-py3.11.egg is deprecated. pip 23.3 will enforce this behaviour change. A possible replacement is to use pip for package installation..\n",
      "\n",
      "[notice] A new release of pip is available: 23.2.1 -> 25.2\n",
      "[notice] To update, run: python.exe -m pip install --upgrade pip\n"
     ]
    }
   ],
   "source": [
    "%pip install wget\n",
    "%pip install torch"
   ]
  },
  {
   "cell_type": "code",
   "execution_count": 26,
   "id": "854403f8",
   "metadata": {
    "vscode": {
     "languageId": "plaintext"
    }
   },
   "outputs": [
    {
     "name": "stdout",
     "output_type": "stream",
     "text": [
      "100% [..........................................................................] 1115394 / 1115394"
     ]
    },
    {
     "data": {
      "text/plain": [
       "'input (1).txt'"
      ]
     },
     "execution_count": 26,
     "metadata": {},
     "output_type": "execute_result"
    }
   ],
   "source": [
    "import wget\n",
    "url = \"https://raw.githubusercontent.com/karpathy/char-rnn/master/data/tinyshakespeare/input.txt\"\n",
    "wget.download(url, \"input.txt\")"
   ]
  },
  {
   "cell_type": "code",
   "execution_count": 27,
   "id": "2ee79c42",
   "metadata": {
    "vscode": {
     "languageId": "plaintext"
    }
   },
   "outputs": [
    {
     "name": "stdout",
     "output_type": "stream",
     "text": [
      "First Citizen:\n",
      "Before we proceed any further, hear me speak.\n",
      "\n",
      "All:\n",
      "Speak, speak.\n",
      "\n",
      "First Citizen:\n",
      "You are all resolved rather to die than to famish?\n",
      "\n",
      "All:\n",
      "Resolved. resolved.\n",
      "\n",
      "First Citizen:\n",
      "First, you know Caius Marcius is chief enemy to the people.\n",
      "\n",
      "All:\n",
      "We know't, we know't.\n",
      "\n",
      "First Citizen:\n",
      "Let us kill him, and we'll have corn at our own price.\n",
      "Is't a verdict?\n",
      "\n",
      "All:\n",
      "No more talking on't; let it \n"
     ]
    }
   ],
   "source": [
    "with open('input.txt', 'r', encoding='utf-8') as f:\n",
    "    text=f.read()\n",
    "\n",
    "print(text[:400])"
   ]
  },
  {
   "cell_type": "code",
   "execution_count": 28,
   "id": "f01159e6",
   "metadata": {
    "vscode": {
     "languageId": "plaintext"
    }
   },
   "outputs": [
    {
     "name": "stdout",
     "output_type": "stream",
     "text": [
      "\n",
      " !$&',-.3:;?ABCDEFGHIJKLMNOPQRSTUVWXYZabcdefghijklmnopqrstuvwxyz\n"
     ]
    }
   ],
   "source": [
    "# get list of all unique characters in the text, in sorted order\n",
    "chars=sorted(list(set(text)))\n",
    "vocab_size=len(chars)\n",
    "\n",
    "print(\"\".join(chars))"
   ]
  },
  {
   "cell_type": "markdown",
   "id": "9396522b-0b00-4137-bbf0-5e644f52d019",
   "metadata": {},
   "source": [
    "PERFORMING TOKENIZATION\n",
    "\n",
    "here, we just map each character of our string to our chars set we created above"
   ]
  },
  {
   "cell_type": "code",
   "execution_count": 29,
   "id": "9073010c-fd44-4214-a21e-1a1e05a98bd3",
   "metadata": {},
   "outputs": [],
   "source": [
    "# creating mapping from chars to index and index to chars\n",
    "stoi={ch:i for i, ch in enumerate(chars)} # character to index\n",
    "itos={i:ch for ch, i in enumerate(chars)} # index to character\n",
    "encode=lambda s:[stoi[c] for c in s]\n",
    "decode=lambda l:''.join([itos[i] for i in l])"
   ]
  },
  {
   "cell_type": "code",
   "execution_count": 31,
   "id": "8d612b1f-0b1f-40b7-93f1-aceb3b9aaf1e",
   "metadata": {},
   "outputs": [],
   "source": [
    "# now encode the entire dataset text in torch.tensor\n",
    "# A torch.Tensor is a multi-dimensional matrix containing elements of a single data type\n",
    "import torch\n",
    "data=torch.tensor(encode(text), dtype=torch.long) # creates the 64-bit signed (dtype=tensor.long) integer matrix"
   ]
  },
  {
   "cell_type": "code",
   "execution_count": 32,
   "id": "04e8af3f-4121-4352-86ef-caec3662ac12",
   "metadata": {},
   "outputs": [],
   "source": [
    "# train test split\n",
    "n=int(0.9*len(data))\n",
    "train_data=data[:n] # from 0 to n in data matrix\n",
    "test_data=data[n:] # from n to end in data matrix"
   ]
  },
  {
   "cell_type": "code",
   "execution_count": 33,
   "id": "c5d3eb34-7160-4a4f-96f5-b18aeaea9060",
   "metadata": {},
   "outputs": [
    {
     "data": {
      "text/plain": [
       "tensor([18, 47, 56, 57, 58,  1, 15, 47, 58])"
      ]
     },
     "execution_count": 33,
     "metadata": {},
     "output_type": "execute_result"
    }
   ],
   "source": [
    "# creating small chunks of training data to feed to transformer\n",
    "block_size=8\n",
    "train_data[:block_size+1]"
   ]
  }
 ],
 "metadata": {
  "kernelspec": {
   "display_name": "Python 3 (ipykernel)",
   "language": "python",
   "name": "python3"
  },
  "language_info": {
   "codemirror_mode": {
    "name": "ipython",
    "version": 3
   },
   "file_extension": ".py",
   "mimetype": "text/x-python",
   "name": "python",
   "nbconvert_exporter": "python",
   "pygments_lexer": "ipython3",
   "version": "3.11.0"
  }
 },
 "nbformat": 4,
 "nbformat_minor": 5
}
